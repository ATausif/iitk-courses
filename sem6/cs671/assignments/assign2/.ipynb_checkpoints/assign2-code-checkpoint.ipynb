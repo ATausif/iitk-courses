{
 "cells": [
  {
   "cell_type": "code",
   "execution_count": 1,
   "metadata": {},
   "outputs": [],
   "source": [
    "import os\n",
    "import gensim\n",
    "\n",
    "import representation\n",
    "\n",
    "import numpy as np\n",
    "\n",
    "from nltk.corpus import stopwords\n",
    "\n",
    "from sklearn import linear_model\n",
    "from sklearn.neural_network import MLPClassifier\n",
    "from sklearn.naive_bayes import BernoulliNB, MultinomialNB\n",
    "from sklearn.feature_extraction.text import CountVectorizer, TfidfVectorizer"
   ]
  },
  {
   "cell_type": "code",
   "execution_count": 2,
   "metadata": {},
   "outputs": [],
   "source": [
    "with open(\"data/imdb.vocab\", \"r\") as f:\n",
    "    words = [line.strip() for line in f.read().split(\"\\n\")]\n",
    "\n",
    "vocab = dict()\n",
    "id = 1\n",
    "\n",
    "for word in words:\n",
    "    vocab[word] = id\n",
    "    id += 1"
   ]
  },
  {
   "cell_type": "code",
   "execution_count": 10,
   "metadata": {},
   "outputs": [],
   "source": [
    "def load(root_dir):\n",
    "    data = []\n",
    "    labels = []\n",
    "    \n",
    "    for label, dir in enumerate([root_dir + \"/pos/\", root_dir + \"/neg/\"]):\n",
    "        files_list = os.listdir(dir)\n",
    "        \n",
    "        for file_name in files_list:\n",
    "            with open(dir + file_name, \"r\") as f:\n",
    "                data.append(f.read())\n",
    "                labels.append(label)\n",
    "                \n",
    "    return {\"data\": data, \"labels\": labels}"
   ]
  },
  {
   "cell_type": "code",
   "execution_count": 11,
   "metadata": {
    "scrolled": true
   },
   "outputs": [],
   "source": [
    "train_data = load(\"data/train\")\n",
    "test_data = load(\"data/test\")"
   ]
  },
  {
   "cell_type": "code",
   "execution_count": 7,
   "metadata": {},
   "outputs": [
    {
     "data": {
      "text/plain": [
       "[{'label': 0,\n",
       "  'text': \"I enjoyed this movie and I had very low expectation due to all the negative reviews I read before going. I went because I was curious as to what all this fuss was about because some of the postings were so angry with this movie and with the Koreans. Oh and it's from Korea which has put out some of my favorite movies. I liked Host but not my absolute favorite. Some of my favorite sci-fi /fantasy movies so you can have a sense of my taste: Mirrormask, Stardust, Serenity, Gattaca, Willow, Matrix, Resident Evil series, LOTR, Stargate, Dark City.<br /><br />It wasn't confusing like everyone said and the monsters looked good and the battles great. There are some holes in the story but didn't really matter. I sort of tune out stuff like that and stopped asking why long time ago when I see summer blockbusters. The Korean legend was interesting, the reincarnation stuff was different, and I thought the main characters suspiciously dressed like Korean actors in other shows. Ethan's(Behr)hair looked so Asian.<br /><br />Yes, it could be better and I hope in the future that Korea, with its unusual quirky sense of life, intense emotions, and unexpected humor, can bring some diversity to the blockbuster genre. Maybe a combination of Host and Dragon Wars in the future?\"},\n",
       " {'label': 0,\n",
       "  'text': \"The movie has very much the feel of a play right from the start - I think it would make a better play than a movie because the set and dramatization make a movie version seem a bit too artificial. But, still, it's carried out fairly well, and the story & especially the dialogue are interesting. They've taken the dialogue pretty much exactly as is from the actual play. Perhaps it's a good introduction to Shaw's plays.<br /><br />The main character Raina has her head in the clouds & and a flair for the dramatic, and Helena Bonham Carter's acting does a good job here. Her fianc\\xc3\\xa9, Serges, is a bit too cartoonish when he is really supposed to be an extremely handsome dashing figure. Her parents are entertaining enough.\"},\n",
       " {'label': 0,\n",
       "  'text': \"I loved this episode. It is so great that all 5 of them team up and stop LutherCorp and save the world. I also love this episode because Kyle Gallner (Bart Allen/Impulse) and Justin Hartley (Oliver Queen/Green Arrow) are guest starring in it!!! I just hope that Clark will join the Justice League and we'll get to follow this group of heroes across the globe!! =)It was really exciting and keeps viewers interested because of what will happen next. I think Chloe should also join the team as Watchtower, that would be such a coool thing for her to do besides the Daily Planet because she doesn't have super powers. Also, I want to find out what types of subjects Lex is going to use for 33.1, I wonder what other types of powers other people in the world have!!!\"},\n",
       " {'label': 0,\n",
       "  'text': \"I've read many negative reviews of this movie and finally got a chance to see it on DVD. To be honest I really don't know what the problem with it is.<br /><br />It's a decent murder mystery thriller, shown from various points of view, from an eccentric cast of often drugged out potential killers/suspects, including the late porn king, John Holmes. Please read the plot synopsis for the exact details of the movie's plot - I wish to contribute more to a review than a synopsis.<br /><br />Many reviewers went so far to give this movie their lowest rating due to violence but I really don't see it. MANY modern movies were worse - Saving Private Ryan was ultimately more violent than this movie, which often relies on implied blood stains than actual brutal slayings (the murders depicted in this film were done with lead pipes, afterall).<br /><br />I was enthralled with both halves of the movie - the first showing John Holmes as a hopeless cash hungry drug addict, and the second half showing his side as a minor conspirator in a senseless bloodbath. The movie has excellent acting, even though Dylan McDemorant looks more than a bit out of place in his biker-esque personia and goatee'ed bad boy personality.<br /><br />The soundtrack was also awesome - a fantastic mix of 70's B-side rock and obscure pop, spread out over a couple of hours in all the right places ala Boogie Nights.\"},\n",
       " {'label': 0,\n",
       "  'text': 'The best Modesty Blaise movie I have seen so far. It\\'s like a good pilot for a TV-series. I even think it\\'s a little bit \"cult\", like with a lite touch of Quentin Tarantino\\'s magic, or something. They have caught a great deal of Modesty\\'s character, but I admit missing Willy Garwin a bit. Even if i have read many comics and book by Peter O\\'donnell I\\'m not disappointed of this film, quite the opposite. Positive surprised of this story about Modesty and her childhood. I did not put my expectations so high, because of the bad movie from 1966. So I may have overrate this movie just a little. But if you like the comics and other storys about Modesty Blaise, you should definitely see this one! can\\'t wait for a follow-up...'},\n",
       " {'label': 0,\n",
       "  'text': \"Pierce Brosnan has sipped his last Martini and returns, in an outrageous self-parody, as the aging foul-mouthed boozy assassin Julian Noble, who has a particular fondness for teenage girls, bullfights and tacky clothes. During a job in Mexico City he meets Danny (Greg Kinnear), a straight-faced Denver suburban business-man, who's in town to make his deal of-a-life-time, in a hotel bar. Despite their completely different personalities and Julian's crude and insensible remarks, they become friends. <br /><br />Largely carried by the performances of Pierce Brosnan and Greg Kinnear, director Richard Shepard revealed that he didn't write the film with Pierce Brosnan in mind , but I can hardly imagine this without him. He proves to have a real talent for comedy and can be more than just James Bond or cold-war spies. The scene in which the two meet at a glossy hotel bar (stunning sets and beautifully photographed) really is a bravura piece of acting skills. The scene lasts almost fifteen minutes, and although it was probably carefully scripted, the two actors are largely improvising, but they succeed wonderfully! It almost feels like a new standard in screen acting. Think of Robert De Niro and Harvey Keitel in MEAN STEETS improvising and add one of the most subtle underpinnings of many genre clich\\xc3\\xa9s and the actors' own typecasting (Brosnan's James Bond in particular), and you got one of the most delightful pairings in recent Hollywood. <br /><br />Sadly, the story wears thin after a while. After an hour, the film just runs out of steam. Nevertheless, and I can't put my finger on it exactly, I did enjoy this very much. It just feels very fresh and original, with some imaginative use of sets and lighting, and some hints to Seijun Suzuki and Jean-Pierre Melville. The other characters aren't given much to do, but this film does offer something new, in that respect it almost effortlessly succeeds in blending all conventional genres into quite an entertaining spoof. Very amusing.<br /><br />Camera Obscura --- 7/10\"},\n",
       " {'label': 1,\n",
       "  'text': \"This is almost certainly the worst Western I've ever seen. The story follows a formula that is especially common to Westerns and martial arts films -- hero learns that family/friends have been murdered, so hero sets out to exact revenge, foils the ineffective lawman, rescues the kidnapped loving damsel, and murders the expert arch-nemesis in a brutal duel. This formula has often been successful -- otherwise it wouldn't be a formula -- but Gunfighter is the most sophomoric execution of it you'll ever see. The scripting is atrociously simple-minded and insulting; it sounds like a high schooler wrote the dialogue because it lacks depth, maturity, and realism. The sound is bad; it sometimes looks dubbed. The cinematography is lame, and the sets are sometimes just facades. The acting is pitiful; sure, some of the performers could blame the script, but others cannot use that excuse. I hope I never see Chris Lybbert in a speaking role ever again; every time he says a line that should be angry or mean, he does nothing more than lower the timbre of his voice and he just sounds like a kid trying to act macho. And speaking of Chris Lybbert, who plays Hopalong, check out his duds (if you dare to watch this film): He wears these brand new clothes that make him look more like Roy Rogers than a hard-working, down-and-dirty cowboy. If you enjoy inane cinematic fare that serves merely to worship the imagined grandeur of Hopalong Cassidy, then get this, but if you have more than two neurons, watch something else.\"},\n",
       " {'label': 1,\n",
       "  'text': \"This is a really dumb movie. It could be fun with the cool looking aliens and the country setting, but it just isn't.<br /><br />Some aliens hear the broadcast of War of the Worlds when a small country radio station plays it on Halloween. They come to Earth to kill humans, but instead of killing, they make people their slaves and act goofy. The front cover of the film shows these aliens riding surfboards in space...not really what they do. These aren't party aliens, they are stupid cartoonish idiots with annoying high pitched modulated voices. The alien with the most tolerable voice also happens to be the Jack Nicholson rip-off alien who always wears his sunglasses. Other than the aliens, the acting is terrible. The writing is obviously meant for children, because every character is written like a kid.<br /><br />This is a dumb movie, that only children will appreciate, maybe.<br /><br />My rating: 1/2 out of ****. 100 mins. PG for mild language.\"},\n",
       " {'label': 0,\n",
       "  'text': 'What a good film! Made Men is a great action movie with lots of twists and turns. James Belushi is very good as an ex hood who has stolen 12 million from the boss who has to fend of the gangsters , hillbillies his wife and the local sheriff( Timothy Dalton).you wont be disappointed, jump on board and enjoy the ride. 8 out of 10'},\n",
       " {'label': 0,\n",
       "  'text': \"Gena Rowlands plays an actress who loses her grip on reality when she witnesses the death of a fan of hers. She becomes increasingly deluded from reality, and as a result her emotional turmoil intrudes with her work as an actress. In the sense that she breaks all the rules of acting and improvises everything, yet still manages to engage her audience makes the film interesting (if a bit self-important) as a parallel of Cassavettes' own struggles as a filmmaker. There's so many ideas thrown around, and as result it becomes a bit muddled (I'm still pondering the relation between the dead fan and Rowlands, among many other things), but the way they're presented in their rawest form makes it a consistently interesting and thought-provoking film. Would be great on a double bill with Mulholland Drive.<br /><br />\"}]"
      ]
     },
     "execution_count": 7,
     "metadata": {},
     "output_type": "execute_result"
    }
   ],
   "source": []
  }
 ],
 "metadata": {
  "kernelspec": {
   "display_name": "Python 2",
   "language": "python",
   "name": "python2"
  },
  "language_info": {
   "codemirror_mode": {
    "name": "ipython",
    "version": 2
   },
   "file_extension": ".py",
   "mimetype": "text/x-python",
   "name": "python",
   "nbconvert_exporter": "python",
   "pygments_lexer": "ipython2",
   "version": "2.7.14"
  }
 },
 "nbformat": 4,
 "nbformat_minor": 2
}
