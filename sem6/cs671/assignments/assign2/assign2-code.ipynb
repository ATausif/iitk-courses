{
 "cells": [
  {
   "cell_type": "code",
   "execution_count": null,
   "metadata": {},
   "outputs": [],
   "source": [
    "import os\n",
    "import gensim\n",
    "\n",
    "import representation\n",
    "\n",
    "import numpy as np\n",
    "\n",
    "from nltk.corpus import stopwords\n",
    "\n",
    "from sklearn import linear_model\n",
    "from sklearn.neural_network import MLPClassifier\n",
    "from sklearn.naive_bayes import BernoulliNB, MultinomialNB\n",
    "from sklearn.feature_extraction.text import CountVectorizer, TfidfVectorizer"
   ]
  },
  {
   "cell_type": "code",
   "execution_count": null,
   "metadata": {},
   "outputs": [],
   "source": [
    "with open(\"data/imdb.vocab\", \"r\") as f:\n",
    "    words = [line.strip() for line in f.read().split(\"\\n\")]\n",
    "\n",
    "vocab = dict()\n",
    "id = 1\n",
    "\n",
    "for word in words:\n",
    "    vocab[word] = id\n",
    "    id += 1"
   ]
  },
  {
   "cell_type": "code",
   "execution_count": null,
   "metadata": {},
   "outputs": [],
   "source": [
    "def load(root_dir):\n",
    "    data = []\n",
    "    labels = []\n",
    "    \n",
    "    for label, dir in enumerate([root_dir + \"/pos/\", root_dir + \"/neg/\"]):\n",
    "        files_list = os.listdir(dir)\n",
    "        \n",
    "        for file_name in files_list:\n",
    "            with open(dir + file_name, \"r\") as f:\n",
    "                data.append(f.read())\n",
    "                labels.append(label)\n",
    "                \n",
    "    return {\"data\": data, \"labels\": labels}"
   ]
  },
  {
   "cell_type": "code",
   "execution_count": null,
   "metadata": {
    "scrolled": true
   },
   "outputs": [],
   "source": [
    "train_data = load(\"data/train\")\n",
    "test_data = load(\"data/test\")"
   ]
  },
  {
   "cell_type": "code",
   "execution_count": null,
   "metadata": {},
   "outputs": [],
   "source": []
  }
 ],
 "metadata": {
  "kernelspec": {
   "display_name": "Python 2",
   "language": "python",
   "name": "python2"
  },
  "language_info": {
   "codemirror_mode": {
    "name": "ipython",
    "version": 2
   },
   "file_extension": ".py",
   "mimetype": "text/x-python",
   "name": "python",
   "nbconvert_exporter": "python",
   "pygments_lexer": "ipython2",
   "version": "2.7.14"
  }
 },
 "nbformat": 4,
 "nbformat_minor": 2
}
