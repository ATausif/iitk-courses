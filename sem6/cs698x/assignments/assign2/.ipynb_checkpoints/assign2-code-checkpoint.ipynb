{
 "cells": [
  {
   "cell_type": "markdown",
   "metadata": {},
   "source": [
    "# Settings"
   ]
  },
  {
   "cell_type": "code",
   "execution_count": null,
   "metadata": {},
   "outputs": [],
   "source": [
    "import matplotlib as mpl\n",
    "\n",
    "%matplotlib inline\n",
    "\n",
    "from matplotlib import pyplot as plt\n",
    "from matplotlib import rcParams\n",
    "\n",
    "rcParams['axes.titlepad'] = 20\n",
    "rcParams['axes.titlesize'] = \"medium\"\n",
    "rcParams['axes.edgecolor'] = \"red\"\n",
    "rcParams['axes.spines.right'] = rcParams['axes.spines.top'] = False\n",
    "rcParams['xtick.labelsize'] = \"small\"\n",
    "rcParams['xtick.major.pad'] = 10\n",
    "rcParams['ytick.labelsize'] = \"small\"\n",
    "rcParams['ytick.major.pad'] = 10\n",
    "rcParams['axes.formatter.use_mathtext'] = True\n",
    "rcParams['axes.labelpad'] = 10\n",
    "rcParams['font.family'] = 'monospace'\n",
    "rcParams['font.weight'] = 'normal'\n",
    "rcParams['figure.dpi'] = 240.0\n",
    "rcParams['savefig.dpi'] = 240.0"
   ]
  },
  {
   "cell_type": "code",
   "execution_count": null,
   "metadata": {},
   "outputs": [],
   "source": [
    "import os\n",
    "if not os.path.exists(\"plots\"):\n",
    "    os.makedirs(\"plots\")"
   ]
  },
  {
   "cell_type": "markdown",
   "metadata": {},
   "source": [
    "# Question 3"
   ]
  },
  {
   "cell_type": "code",
   "execution_count": null,
   "metadata": {},
   "outputs": [],
   "source": [
    "import math\n",
    "import numpy as np\n",
    "from scipy.special import gamma"
   ]
  },
  {
   "cell_type": "code",
   "execution_count": null,
   "metadata": {},
   "outputs": [],
   "source": [
    "def lgamma(x):\n",
    "    g = np.zeros(x.shape)\n",
    "    for i, el in enumerate(x):\n",
    "        el = el - 1\n",
    "        g[i] = math.sqrt(abs(el)) * (el ** el) * math.exp(-el)\n",
    "    return math.sqrt(2 * math.pi) * g"
   ]
  },
  {
   "cell_type": "code",
   "execution_count": null,
   "metadata": {},
   "outputs": [],
   "source": [
    "a = np.arange(1.1, 5, 0.1)"
   ]
  },
  {
   "cell_type": "code",
   "execution_count": null,
   "metadata": {},
   "outputs": [],
   "source": [
    "plt.plot(a, lgamma(a), 'b--', label=\"Approximate\")\n",
    "plt.plot(a, gamma(a), 'r.', label=\"Actual\")\n",
    "plt.title(\"Comparision Plot: Laplace Approximation of Gamma Function\")\n",
    "plt.legend()\n",
    "plt.savefig(\"plots/q3.png\")\n",
    "plt.show()"
   ]
  }
 ],
 "metadata": {
  "kernelspec": {
   "display_name": "Python 2",
   "language": "python",
   "name": "python2"
  },
  "language_info": {
   "codemirror_mode": {
    "name": "ipython",
    "version": 2
   },
   "file_extension": ".py",
   "mimetype": "text/x-python",
   "name": "python",
   "nbconvert_exporter": "python",
   "pygments_lexer": "ipython2",
   "version": "2.7.14"
  }
 },
 "nbformat": 4,
 "nbformat_minor": 2
}
