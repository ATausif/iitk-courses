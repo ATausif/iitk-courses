{
 "cells": [
  {
   "cell_type": "code",
   "execution_count": null,
   "metadata": {},
   "outputs": [],
   "source": [
    "import os\n",
    "import math\n",
    "\n",
    "import numpy as np\n",
    "import matplotlib as mpl\n",
    "\n",
    "from scipy.special import gamma\n",
    "from matplotlib import pyplot as plt\n",
    "\n",
    "mpl.rc_file_defaults()\n",
    "\n",
    "\n",
    "def lgamma(x):\n",
    "    g = np.zeros(x.shape)\n",
    "    for i, el in enumerate(x):\n",
    "        el = el - 1\n",
    "        g[i] = math.sqrt(abs(el)) * (el ** el) * math.exp(-el)\n",
    "    return math.sqrt(2 * math.pi) * g\n",
    "\n",
    "a = np.arange(1.1, 5, 0.1)\n",
    "\n",
    "if not os.path.exists(\"plots\"):\n",
    "    os.makedirs(\"plots\")\n",
    "    \n",
    "plt.plot(a, lgamma(a), 'b--', label=\"Approximate\")\n",
    "plt.plot(a, gamma(a), 'r.', label=\"Actual\")\n",
    "plt.title(\"Comparision Plot: Laplace Approximation of Gamma Function\")\n",
    "plt.legend()\n",
    "plt.savefig(\"plots/q3.png\")\n",
    "plt.show()"
   ]
  }
 ],
 "metadata": {
  "hide_input": false,
  "kernelspec": {
   "display_name": "Python 2",
   "language": "python",
   "name": "python2"
  },
  "language_info": {
   "codemirror_mode": {
    "name": "ipython",
    "version": 2
   },
   "file_extension": ".py",
   "mimetype": "text/x-python",
   "name": "python",
   "nbconvert_exporter": "python",
   "pygments_lexer": "ipython2",
   "version": "2.7.15"
  }
 },
 "nbformat": 4,
 "nbformat_minor": 2
}
