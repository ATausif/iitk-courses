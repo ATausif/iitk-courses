{
 "cells": [
  {
   "cell_type": "code",
   "execution_count": 1,
   "metadata": {},
   "outputs": [],
   "source": [
    "%matplotlib inline"
   ]
  },
  {
   "cell_type": "code",
   "execution_count": 2,
   "metadata": {},
   "outputs": [],
   "source": [
    "import os\n",
    "import numpy as np\n",
    "import scipy.stats as stats\n",
    "\n",
    "import matplotlib as mpl\n",
    "import matplotlib.pyplot as plt\n",
    "import matplotlib.gridspec as grid"
   ]
  },
  {
   "cell_type": "code",
   "execution_count": 3,
   "metadata": {},
   "outputs": [],
   "source": [
    "mpl.rc_file_defaults()"
   ]
  },
  {
   "cell_type": "code",
   "execution_count": 4,
   "metadata": {},
   "outputs": [],
   "source": [
    "if not os.path.exists(\"./plots\"):\n",
    "    os.makedirs(\"./plots\")"
   ]
  },
  {
   "cell_type": "code",
   "execution_count": 5,
   "metadata": {},
   "outputs": [],
   "source": [
    "def generate_samples(dist, n=100, N=1000, **args):\n",
    "    mappings = {\n",
    "        \"Binomial\": lambda args: np.random.binomial(\n",
    "            1, args[\"p\"], (N, n)\n",
    "        ),\n",
    "        \"Poisson\": lambda args: np.random.poisson(\n",
    "            args[\"lam\"], (N, n)\n",
    "        ),\n",
    "        \"Geometric\": lambda args: np.random.geometric(\n",
    "            args[\"p\"], (N, n)\n",
    "        ),\n",
    "        \"Uniform\": lambda args: np.random.uniform(\n",
    "            0, 1, (N, n)\n",
    "        ),\n",
    "        \"Beta\": lambda args: np.random.beta(\n",
    "            1, 2, (N, n)\n",
    "        ),\n",
    "        \"Gamma\": lambda args: np.random.gamma(\n",
    "            3, 1, (N, n)\n",
    "        ),\n",
    "        \"Normal\": lambda args: np.random.normal(\n",
    "            args[\"mu\"], args[\"std\"], (N, n)\n",
    "        ),\n",
    "        \"Chi-Squared\": lambda args: np.random.chisquare(\n",
    "            args[\"df\"], (N, n)\n",
    "        ),\n",
    "        \"Cauchy\": lambda args: np.random.standard_cauchy(\n",
    "            (N, n)\n",
    "        )\n",
    "    }\n",
    "    \n",
    "    if dist not in mappings:\n",
    "        raise NotImplementedError\n",
    "        \n",
    "    return mappings[dist](args)"
   ]
  },
  {
   "cell_type": "code",
   "execution_count": 6,
   "metadata": {},
   "outputs": [],
   "source": [
    "def qq_plot(dist, ax, n=100, N=1000, **args):\n",
    "    samples = generate_samples(dist, n=n, N=N, **args)\n",
    "    mean_samples = sorted(samples.mean(axis=1))\n",
    "    \n",
    "    stats.probplot(mean_samples, dist=\"norm\", plot=ax)\n",
    "\n",
    "    line = ax.get_lines()[1]\n",
    "    line.set_linewidth(1.5)\n",
    "    line.set_color(\"#cc9955\")\n",
    "    line.set_alpha(0.5)\n",
    "\n",
    "    line = ax.get_lines()[0]\n",
    "    line.set_markersize(1)\n",
    "    line.set_color(\"#9955cc\")\n",
    "    line.set_alpha(0.5)\n",
    "    \n",
    "    plt.title(\"%s (Sample Size - %d)\" % (dist, n))"
   ]
  },
  {
   "cell_type": "code",
   "execution_count": 7,
   "metadata": {},
   "outputs": [],
   "source": [
    "distributions = [\n",
    "    (\"Binomial\", {\"p\": 0.5}),\n",
    "    (\"Poisson\", {\"lam\": 5}),\n",
    "    (\"Geometric\", {\"p\": 0.5}),\n",
    "    (\"Uniform\", {\"p\": 0.5}),\n",
    "    (\"Beta\", {\"p\": 0.5}),\n",
    "    (\"Gamma\", {\"p\": 0.5}),\n",
    "    (\"Chi-Squared\", {\"df\": 2}),\n",
    "    (\"Cauchy\", {}),\n",
    "    (\"Normal\", {\"mu\": 0, \"std\": 1})\n",
    "]\n",
    "\n",
    "sample_sizes = [2, 5, 10, 50]"
   ]
  },
  {
   "cell_type": "code",
   "execution_count": 8,
   "metadata": {},
   "outputs": [
    {
     "data": {
      "text/plain": [
       "<Figure size 768x576 with 0 Axes>"
      ]
     },
     "metadata": {},
     "output_type": "display_data"
    }
   ],
   "source": [
    "for dist, args in distributions:\n",
    "    gs = grid.GridSpec(2, 2)\n",
    "\n",
    "    for i, ss in enumerate(sample_sizes):\n",
    "        ax = plt.subplot(gs[i])\n",
    "        qq_plot(dist, ax, n=ss, **args)\n",
    "\n",
    "    plt.tight_layout()\n",
    "    plt.savefig(\"plots/%s.png\" % dist)\n",
    "    plt.clf()"
   ]
  }
 ],
 "metadata": {
  "hide_input": false,
  "kernelspec": {
   "display_name": "Python (Machine Learning)",
   "language": "python",
   "name": "machine-learning"
  },
  "language_info": {
   "codemirror_mode": {
    "name": "ipython",
    "version": 3
   },
   "file_extension": ".py",
   "mimetype": "text/x-python",
   "name": "python",
   "nbconvert_exporter": "python",
   "pygments_lexer": "ipython3",
   "version": "3.6.7"
  }
 },
 "nbformat": 4,
 "nbformat_minor": 2
}
